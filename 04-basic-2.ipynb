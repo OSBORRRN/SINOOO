{
 "cells": [
  {
   "cell_type": "code",
   "execution_count": 29,
   "metadata": {},
   "outputs": [
    {
     "name": "stdout",
     "output_type": "stream",
     "text": [
      "lisi2023\n"
     ]
    }
   ],
   "source": [
    "students = [  \n",
    "    {\"name\": \"张三\", \"student_id\": \"20230001\", \"github_repository\": \"zhangsan2023\"},  \n",
    "    {\"name\": \"李四\", \"student_id\": \"20230002\", \"github_repository\": \"lisi2023\"},  \n",
    "    {\"name\": \"王五\", \"student_id\": \"20230003\", \"github_repository\": \"wangwu2023\"},  \n",
    "    {\"name\": \"赵六\", \"student_id\": \"20230004\", \"github_repository\": \"zhaoliu2023\"},  \n",
    "    {\"name\": \"陈七\", \"student_id\": \"20230005\", \"github_repository\": \"chenqi2023\"}  \n",
    "]\n",
    "#指定要搜索的姓名\n",
    "target_name = '李四'\n",
    "\n",
    "# 使用for循环筛选出指定姓名的同学的github仓库地址\n",
    "for student in students:  \n",
    "    if student['name'] == target_name:  \n",
    "        print(student[\"github_repository\"])\n"
   ]
  },
  {
   "cell_type": "code",
   "execution_count": 30,
   "metadata": {},
   "outputs": [],
   "source": [
    "def get_repo_by_name(name, students):\n",
    "    for student in students:\n",
    "        if student[\"name\"] == target_name:\n",
    "            print(student[\"github_repository\"])"
   ]
  },
  {
   "cell_type": "code",
   "execution_count": 31,
   "metadata": {},
   "outputs": [],
   "source": [
    "def get_repo_by_name2(name, data):\n",
    "    for i in data:\n",
    "        if i['姓名'] == name:\n",
    "            return i['github仓库地址']\n"
   ]
  }
 ],
 "metadata": {
  "kernelspec": {
   "display_name": "Python 3",
   "language": "python",
   "name": "python3"
  },
  "language_info": {
   "codemirror_mode": {
    "name": "ipython",
    "version": 3
   },
   "file_extension": ".py",
   "mimetype": "text/x-python",
   "name": "python",
   "nbconvert_exporter": "python",
   "pygments_lexer": "ipython3",
   "version": "3.8.10"
  },
  "orig_nbformat": 4
 },
 "nbformat": 4,
 "nbformat_minor": 2
}
