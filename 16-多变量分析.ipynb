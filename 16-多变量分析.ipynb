{
 "cells": [
  {
   "cell_type": "code",
   "execution_count": 1,
   "metadata": {},
   "outputs": [],
   "source": [
    "import pandas as pd\n",
    "import mytools "
   ]
  },
  {
   "cell_type": "code",
   "execution_count": 2,
   "metadata": {},
   "outputs": [],
   "source": [
    "import pandas as pd  \n",
    "import matplotlib.pyplot as plt  \n",
    "import seaborn as sns  \n",
    "  \n",
    "import pandas as pd  \n",
    "import matplotlib.pyplot as plt  \n",
    "import seaborn as sns  \n"
   ]
  },
  {
   "cell_type": "code",
   "execution_count": 3,
   "metadata": {},
   "outputs": [],
   "source": [
    "# 1. 读取CSV文件  \n",
    "data = pd.read_csv(R\"C:\\Users\\ceshi\\Desktop\\SINOOO\\output\\类别变量练习数据.csv\", encoding='gbk')"
   ]
  },
  {
   "cell_type": "code",
   "execution_count": 4,
   "metadata": {},
   "outputs": [
    {
     "name": "stdout",
     "output_type": "stream",
     "text": [
      "父亲工作\n",
      "市公安局              2\n",
      "区建豪汽修中心           2\n",
      "市财政局              2\n",
      "市住建局              2\n",
      "盛泰房地产公司           2\n",
      "中铁六局太原铁路建设公司      1\n",
      "娟红杂粮食府            1\n",
      "家庭父母              1\n",
      "公安局               1\n",
      "西区管委会             1\n",
      "XXX建设局            1\n",
      "银中源工贸有限公司         1\n",
      "广东省中海油            1\n",
      "中国兵器工业公司三冶炼       1\n",
      "市政管理处             1\n",
      "市团委               1\n",
      "万民工程建设有限公司        1\n",
      "省监狱局              1\n",
      "家庭主妇              1\n",
      "江苏路之久工程建设有限公司     1\n",
      "瑞禾农资              1\n",
      "市纪委               1\n",
      "市委办               1\n",
      "第十一中学北侧校园书店       1\n",
      "万盛体能拓展中心鑫多米便利店    1\n",
      "XXX镇政府            1\n",
      "凯信会议服务有限公司        1\n",
      "陇风巢浴              1\n",
      "银光聚银化工有限公司        1\n",
      "元拓科技咨询有限公司        1\n",
      "市广播电视大学           1\n",
      "市经济合作局\\n          1\n",
      "陕西省水利水电第三工程局      1\n",
      "渭源陇原恒新畜牧科技有限公司    1\n",
      "市民政局              1\n",
      "北京路九洋菜市场刘伟鲜面店     1\n",
      "市第一人民医院           1\n",
      "市农业农村局            1\n",
      "老姐饺子馆             1\n",
      "大市场清华电动工具         1\n",
      "市统计局              1\n",
      "县瑞金路锦辉消防工程有限公司    1\n",
      "市农业综合行政执法队        1\n",
      "大禹工程咨询有限公司        1\n",
      "市中级人民法院           1\n",
      "家庭父亲              1\n",
      "市旅游局              1\n",
      "长通公司              1\n",
      "Name: count, dtype: int64\n",
      "母亲工作\n",
      "家庭主妇             10\n",
      "区人民法院             2\n",
      "新疆省和田市个体药店        1\n",
      "家庭父母              1\n",
      "市给排水（集团）有限公司      1\n",
      "市人社局              1\n",
      "市科学技术局            1\n",
      "区住建局              1\n",
      "娟红杂粮食府            1\n",
      "区妇幼保健站            1\n",
      "无                 1\n",
      "鑫智点交通设施有限公司       1\n",
      "北门流觞烟酒            1\n",
      "市教育局              1\n",
      "泰安学校教职工           1\n",
      "市委统战部             1\n",
      "市公安局交警支队          1\n",
      "市审计局              1\n",
      "顶新文化公司            1\n",
      "市育才学校             1\n",
      "省第三人民医院           1\n",
      "区应急管理局            1\n",
      "长城国际旅行社有限责任公司     1\n",
      "美年大健康有限公司         1\n",
      "九亩花田蛋糕店           1\n",
      "中国平安财险股份有限公司      1\n",
      "市实验中学             1\n",
      "县住房保障中心\\n         1\n",
      "二十一冶              1\n",
      "XX路街道诚信社区         1\n",
      "矿冶职业技术学院          1\n",
      "北京路九洋菜市场刘伟鲜面店     1\n",
      "公路应急保障与路网监测中心     1\n",
      "市委编办              1\n",
      "个体                1\n",
      "宏信房地资产评估公司        1\n",
      "纺织路街道办            1\n",
      "农行XXX县支行          1\n",
      "白银区公园路街道办事处       1\n",
      "大自然旅行社            1\n",
      "凤巢浴足              1\n",
      "区融媒体中心            1\n",
      "Name: count, dtype: int64\n"
     ]
    }
   ],
   "source": [
    "# 2. 描述父母职业的分布  \n",
    "print(data['父亲工作'].value_counts())  \n",
    "print(data['母亲工作'].value_counts())"
   ]
  },
  {
   "cell_type": "code",
   "execution_count": 13,
   "metadata": {},
   "outputs": [
    {
     "ename": "ValueError",
     "evalue": "'label' must be of length 'x'",
     "output_type": "error",
     "traceback": [
      "\u001b[1;31m---------------------------------------------------------------------------\u001b[0m",
      "\u001b[1;31mValueError\u001b[0m                                Traceback (most recent call last)",
      "\u001b[1;32mc:\\Users\\ceshi\\Desktop\\SINOOO\\16-多变量分析.ipynb 单元格 5\u001b[0m line \u001b[0;36m3\n\u001b[0;32m      <a href='vscode-notebook-cell:/c%3A/Users/ceshi/Desktop/SINOOO/16-%E5%A4%9A%E5%8F%98%E9%87%8F%E5%88%86%E6%9E%90.ipynb#W4sZmlsZQ%3D%3D?line=0'>1</a>\u001b[0m \u001b[39m# 3. 创建父母职业的饼图  \u001b[39;00m\n\u001b[0;32m      <a href='vscode-notebook-cell:/c%3A/Users/ceshi/Desktop/SINOOO/16-%E5%A4%9A%E5%8F%98%E9%87%8F%E5%88%86%E6%9E%90.ipynb#W4sZmlsZQ%3D%3D?line=1'>2</a>\u001b[0m fig, ax \u001b[39m=\u001b[39m plt\u001b[39m.\u001b[39msubplots(figsize\u001b[39m=\u001b[39m(\u001b[39m10\u001b[39m, \u001b[39m8\u001b[39m))  \n\u001b[1;32m----> <a href='vscode-notebook-cell:/c%3A/Users/ceshi/Desktop/SINOOO/16-%E5%A4%9A%E5%8F%98%E9%87%8F%E5%88%86%E6%9E%90.ipynb#W4sZmlsZQ%3D%3D?line=2'>3</a>\u001b[0m ax\u001b[39m.\u001b[39;49mpie(data[\u001b[39m'\u001b[39;49m\u001b[39m父亲工作\u001b[39;49m\u001b[39m'\u001b[39;49m]\u001b[39m.\u001b[39;49mvalue_counts(), labels\u001b[39m=\u001b[39;49mdata[\u001b[39m'\u001b[39;49m\u001b[39m父亲工作\u001b[39;49m\u001b[39m'\u001b[39;49m]\u001b[39m.\u001b[39;49munique(), autopct\u001b[39m=\u001b[39;49m\u001b[39m'\u001b[39;49m\u001b[39m%1.1f\u001b[39;49;00m\u001b[39m%%\u001b[39;49;00m\u001b[39m'\u001b[39;49m, startangle\u001b[39m=\u001b[39;49m\u001b[39m90\u001b[39;49m)  \n\u001b[0;32m      <a href='vscode-notebook-cell:/c%3A/Users/ceshi/Desktop/SINOOO/16-%E5%A4%9A%E5%8F%98%E9%87%8F%E5%88%86%E6%9E%90.ipynb#W4sZmlsZQ%3D%3D?line=3'>4</a>\u001b[0m ax\u001b[39m.\u001b[39maxis(\u001b[39m'\u001b[39m\u001b[39mequal\u001b[39m\u001b[39m'\u001b[39m)  \u001b[39m# 使饼图呈圆形  \u001b[39;00m\n\u001b[0;32m      <a href='vscode-notebook-cell:/c%3A/Users/ceshi/Desktop/SINOOO/16-%E5%A4%9A%E5%8F%98%E9%87%8F%E5%88%86%E6%9E%90.ipynb#W4sZmlsZQ%3D%3D?line=4'>5</a>\u001b[0m plt\u001b[39m.\u001b[39mtitle(\u001b[39m\"\u001b[39m\u001b[39m父亲工作分布\u001b[39m\u001b[39m\"\u001b[39m)  \n",
      "File \u001b[1;32md:\\Python38\\lib\\site-packages\\matplotlib\\__init__.py:1473\u001b[0m, in \u001b[0;36m_preprocess_data.<locals>.inner\u001b[1;34m(ax, data, *args, **kwargs)\u001b[0m\n\u001b[0;32m   1470\u001b[0m \u001b[39m@functools\u001b[39m\u001b[39m.\u001b[39mwraps(func)\n\u001b[0;32m   1471\u001b[0m \u001b[39mdef\u001b[39;00m \u001b[39minner\u001b[39m(ax, \u001b[39m*\u001b[39margs, data\u001b[39m=\u001b[39m\u001b[39mNone\u001b[39;00m, \u001b[39m*\u001b[39m\u001b[39m*\u001b[39mkwargs):\n\u001b[0;32m   1472\u001b[0m     \u001b[39mif\u001b[39;00m data \u001b[39mis\u001b[39;00m \u001b[39mNone\u001b[39;00m:\n\u001b[1;32m-> 1473\u001b[0m         \u001b[39mreturn\u001b[39;00m func(ax, \u001b[39m*\u001b[39;49m\u001b[39mmap\u001b[39;49m(sanitize_sequence, args), \u001b[39m*\u001b[39;49m\u001b[39m*\u001b[39;49mkwargs)\n\u001b[0;32m   1475\u001b[0m     bound \u001b[39m=\u001b[39m new_sig\u001b[39m.\u001b[39mbind(ax, \u001b[39m*\u001b[39margs, \u001b[39m*\u001b[39m\u001b[39m*\u001b[39mkwargs)\n\u001b[0;32m   1476\u001b[0m     auto_label \u001b[39m=\u001b[39m (bound\u001b[39m.\u001b[39marguments\u001b[39m.\u001b[39mget(label_namer)\n\u001b[0;32m   1477\u001b[0m                   \u001b[39mor\u001b[39;00m bound\u001b[39m.\u001b[39mkwargs\u001b[39m.\u001b[39mget(label_namer))\n",
      "File \u001b[1;32md:\\Python38\\lib\\site-packages\\matplotlib\\axes\\_axes.py:3201\u001b[0m, in \u001b[0;36mAxes.pie\u001b[1;34m(self, x, explode, labels, colors, autopct, pctdistance, shadow, labeldistance, startangle, radius, counterclock, wedgeprops, textprops, center, frame, rotatelabels, normalize, hatch)\u001b[0m\n\u001b[0;32m   3199\u001b[0m     explode \u001b[39m=\u001b[39m [\u001b[39m0\u001b[39m] \u001b[39m*\u001b[39m \u001b[39mlen\u001b[39m(x)\n\u001b[0;32m   3200\u001b[0m \u001b[39mif\u001b[39;00m \u001b[39mlen\u001b[39m(x) \u001b[39m!=\u001b[39m \u001b[39mlen\u001b[39m(labels):\n\u001b[1;32m-> 3201\u001b[0m     \u001b[39mraise\u001b[39;00m \u001b[39mValueError\u001b[39;00m(\u001b[39m\"\u001b[39m\u001b[39m'\u001b[39m\u001b[39mlabel\u001b[39m\u001b[39m'\u001b[39m\u001b[39m must be of length \u001b[39m\u001b[39m'\u001b[39m\u001b[39mx\u001b[39m\u001b[39m'\u001b[39m\u001b[39m\"\u001b[39m)\n\u001b[0;32m   3202\u001b[0m \u001b[39mif\u001b[39;00m \u001b[39mlen\u001b[39m(x) \u001b[39m!=\u001b[39m \u001b[39mlen\u001b[39m(explode):\n\u001b[0;32m   3203\u001b[0m     \u001b[39mraise\u001b[39;00m \u001b[39mValueError\u001b[39;00m(\u001b[39m\"\u001b[39m\u001b[39m'\u001b[39m\u001b[39mexplode\u001b[39m\u001b[39m'\u001b[39m\u001b[39m must be of length \u001b[39m\u001b[39m'\u001b[39m\u001b[39mx\u001b[39m\u001b[39m'\u001b[39m\u001b[39m\"\u001b[39m)\n",
      "\u001b[1;31mValueError\u001b[0m: 'label' must be of length 'x'"
     ]
    },
    {
     "data": {
      "image/png": "[encoded data removed]",
      "text/plain": [
       "<Figure size 1000x800 with 1 Axes>"
      ]
     },
     "metadata": {},
     "output_type": "display_data"
    }
   ],
   "source": [
    "# 3. 创建父母职业的饼图  \n",
    "fig, ax = plt.subplots(figsize=(10, 8))  \n",
    "ax.pie(data['父亲工作'].value_counts(), labels=data['父亲工作'].unique(), autopct='%1.1f%%', startangle=90)  \n",
    "ax.axis('equal')  # 使饼图呈圆形  \n",
    "plt.title(\"父亲工作分布\")  \n",
    "plt.show()  "
   ]
  },
  {
   "cell_type": "code",
   "execution_count": 3,
   "metadata": {},
   "outputs": [
    {
     "ename": "NameError",
     "evalue": "name 'plt' is not defined",
     "output_type": "error",
     "traceback": [
      "\u001b[1;31m---------------------------------------------------------------------------\u001b[0m",
      "\u001b[1;31mNameError\u001b[0m                                 Traceback (most recent call last)",
      "\u001b[1;32mc:\\Users\\ceshi\\Desktop\\SINOOO\\16-多变量分析.ipynb 单元格 6\u001b[0m line \u001b[0;36m1\n\u001b[1;32m----> <a href='vscode-notebook-cell:/c%3A/Users/ceshi/Desktop/SINOOO/16-%E5%A4%9A%E5%8F%98%E9%87%8F%E5%88%86%E6%9E%90.ipynb#W5sZmlsZQ%3D%3D?line=0'>1</a>\u001b[0m fig, ax \u001b[39m=\u001b[39m plt\u001b[39m.\u001b[39msubplots(figsize\u001b[39m=\u001b[39m(\u001b[39m10\u001b[39m, \u001b[39m8\u001b[39m))  \n\u001b[0;32m      <a href='vscode-notebook-cell:/c%3A/Users/ceshi/Desktop/SINOOO/16-%E5%A4%9A%E5%8F%98%E9%87%8F%E5%88%86%E6%9E%90.ipynb#W5sZmlsZQ%3D%3D?line=1'>2</a>\u001b[0m ax\u001b[39m.\u001b[39mpie(data[\u001b[39m'\u001b[39m\u001b[39m母亲工作\u001b[39m\u001b[39m'\u001b[39m]\u001b[39m.\u001b[39mvalue_counts(), labels\u001b[39m=\u001b[39mdata[\u001b[39m'\u001b[39m\u001b[39m母亲工作\u001b[39m\u001b[39m'\u001b[39m]\u001b[39m.\u001b[39mvalue_counts()\u001b[39m.\u001b[39mindex\u001b[39m.\u001b[39mtolist(), autopct\u001b[39m=\u001b[39m\u001b[39m'\u001b[39m\u001b[39m%1.1f\u001b[39;00m\u001b[39m%%\u001b[39;00m\u001b[39m'\u001b[39m, startangle\u001b[39m=\u001b[39m\u001b[39m90\u001b[39m)  \n\u001b[0;32m      <a href='vscode-notebook-cell:/c%3A/Users/ceshi/Desktop/SINOOO/16-%E5%A4%9A%E5%8F%98%E9%87%8F%E5%88%86%E6%9E%90.ipynb#W5sZmlsZQ%3D%3D?line=2'>3</a>\u001b[0m ax\u001b[39m.\u001b[39maxis(\u001b[39m'\u001b[39m\u001b[39mequal\u001b[39m\u001b[39m'\u001b[39m)  \u001b[39m# 使饼图呈圆形  \u001b[39;00m\n",
      "\u001b[1;31mNameError\u001b[0m: name 'plt' is not defined"
     ]
    }
   ],
   "source": [
    "fig, ax = plt.subplots(figsize=(10, 8))  \n",
    "ax.pie(data['母亲工作'].value_counts(), labels=data['母亲工作'].value_counts().index.tolist(), autopct='%1.1f%%', startangle=90)  \n",
    "ax.axis('equal')  # 使饼图呈圆形  \n",
    "plt.title(\"母亲工作分布\")"
   ]
  },
  {
   "cell_type": "code",
   "execution_count": 7,
   "metadata": {},
   "outputs": [
    {
     "name": "stdout",
     "output_type": "stream",
     "text": [
      "母亲单位  个体户  事业编  国企  无  民企\n",
      "父亲单位                     \n",
      "个体户     3    1   0  1   0\n",
      "事业编     0   17   1  3   4\n",
      "国企      0    1   0  2   1\n",
      "无       0    1   0  2   0\n",
      "民企      3    4   0  4   2\n"
     ]
    }
   ],
   "source": [
    "import pandas as pd  \n",
    "  \n",
    "try:  \n",
    "    data = pd.read_csv(R'C:\\Users\\ceshi\\Desktop\\SINOOO\\output\\类别变量练习数据.csv', encoding='gbk')  # 尝试使用 'gbk' 编码  \n",
    "    # 其他代码...  \n",
    "except UnicodeDecodeError as e:  \n",
    "    print(f\"解码错误: {e}\")\n",
    "    # 导入所需的库\n",
    "import pandas as pd\n",
    "# 创建父母工作的交叉分析表\n",
    "cross_table = pd.crosstab(data['父亲单位'], data['母亲单位'])\n",
    "print(cross_table)"
   ]
  },
  {
   "cell_type": "code",
   "execution_count": 8,
   "metadata": {},
   "outputs": [
    {
     "name": "stdout",
     "output_type": "stream",
     "text": [
      "母亲单位   个体户    事业编    国企     无    民企\n",
      "父亲单位                               \n",
      "个体户   300%   100%    0%  100%    0%\n",
      "事业编     0%  1700%  100%  300%  400%\n",
      "国企      0%   100%    0%  200%  100%\n",
      "无       0%   100%    0%  200%    0%\n",
      "民企    300%   400%    0%  400%  200%\n"
     ]
    }
   ],
   "source": [
    "import pandas as pd  \n",
    "  \n",
    "try:  \n",
    "    data = pd.read_csv(R'C:\\Users\\ceshi\\Desktop\\SINOOO\\output\\类别变量练习数据.csv', encoding='gbk')  # 尝试使用 'gbk' 编码  \n",
    "except UnicodeDecodeError as e:  \n",
    "    print(f\"解码错误: {e}\")  \n",
    "    exit()  # 退出程序  \n",
    "  \n",
    "cross_table = pd.crosstab(data['父亲单位'], data['母亲单位'])  \n",
    "cross_table = cross_table.applymap(lambda x: f\"{x*100}%\")\n",
    "  \n",
    "print(cross_table)"
   ]
  },
  {
   "cell_type": "code",
   "execution_count": 9,
   "metadata": {},
   "outputs": [
    {
     "name": "stdout",
     "output_type": "stream",
     "text": [
      "父母工作的相关系数:            父亲工作      母亲工作\n",
      "父亲工作  1.000000  0.195009\n",
      "母亲工作  0.195009  1.000000\n"
     ]
    }
   ],
   "source": [
    "# 创建一个映射字典，将职业名称映射到数字  \n",
    "job_mapping = {value: i for i, value in enumerate(data['父亲工作'].unique())}  \n",
    "  \n",
    "# 使用映射字典将'父亲工作'和'母亲工作'列中的职业名称转换为数字  \n",
    "data['父亲工作'] = data['父亲工作'].map(job_mapping)  \n",
    "data['母亲工作'] = data['母亲工作'].map(job_mapping)  \n",
    "  \n",
    "# 计算皮尔逊相关系数  \n",
    "correlation = data[['父亲工作', '母亲工作']].corr(method='pearson')  \n",
    "print(\"父母工作的相关系数: \", correlation)"
   ]
  },
  {
   "cell_type": "code",
   "execution_count": 10,
   "metadata": {},
   "outputs": [
    {
     "name": "stdout",
     "output_type": "stream",
     "text": [
      "父亲工作数据的相关系数：父亲工作   NaN\n",
      "父亲单位   NaN\n",
      "母亲工作   NaN\n",
      "母亲单位   NaN\n",
      "dtype: float64\n",
      "母亲工作与数据的相关系数：父亲工作   NaN\n",
      "父亲单位   NaN\n",
      "母亲工作   NaN\n",
      "母亲单位   NaN\n",
      "dtype: float64\n",
      "相关系数的范围是-1到1。接近1表示强正相关,接近-1表示强负相关,接近0表示没有相关性。\n",
      "因此，父亲职业与数据的相关系数为父亲工作   NaN\n",
      "父亲单位   NaN\n",
      "母亲工作   NaN\n",
      "母亲单位   NaN\n",
      "dtype: float64，表示两者之间存在强正相关关系。\n",
      "母亲职业与数据的相关系数为父亲工作   NaN\n",
      "父亲单位   NaN\n",
      "母亲工作   NaN\n",
      "母亲单位   NaN\n",
      "dtype: float64，表示两者之间存在强正相关关系。\n"
     ]
    }
   ],
   "source": [
    "import pandas as pd  \n",
    "import numpy as np  \n",
    "  \n",
    "# 读取CSV文件  \n",
    "data = pd.read_csv(R'C:\\Users\\ceshi\\Desktop\\SINOOO\\output\\类别变量练习数据.csv', encoding='gbk')\n",
    "  \n",
    "# 确保数据是数字类型  \n",
    "data = data.apply(pd.to_numeric, errors='coerce')  \n",
    "  \n",
    "# 计算父母职业的相关系数  \n",
    "parent1_corr = data.corrwith(data['父亲工作'])  \n",
    "parent2_corr = data.corrwith(data['母亲工作'])  \n",
    "  \n",
    "# 打印相关系数  \n",
    "print(f\"父亲工作数据的相关系数：{parent1_corr}\")  \n",
    "print(f\"母亲工作与数据的相关系数：{parent2_corr}\")  \n",
    "  \n",
    "# 解释相关系数  \n",
    "print(f\"相关系数的范围是-1到1。接近1表示强正相关,接近-1表示强负相关,接近0表示没有相关性。\")  \n",
    "print(f\"因此，父亲职业与数据的相关系数为{parent1_corr}，表示两者之间存在强正相关关系。\")  \n",
    "print(f\"母亲职业与数据的相关系数为{parent2_corr}，表示两者之间存在强正相关关系。\")"
   ]
  }
 ],
 "metadata": {
  "kernelspec": {
   "display_name": "Python 3",
   "language": "python",
   "name": "python3"
  },
  "language_info": {
   "codemirror_mode": {
    "name": "ipython",
    "version": 3
   },
   "file_extension": ".py",
   "mimetype": "text/x-python",
   "name": "python",
   "nbconvert_exporter": "python",
   "pygments_lexer": "ipython3",
   "version": "3.8.10"
  }
 },
 "nbformat": 4,
 "nbformat_minor": 2
}
